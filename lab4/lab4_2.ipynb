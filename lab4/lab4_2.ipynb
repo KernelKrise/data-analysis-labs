{
 "cells": [
  {
   "cell_type": "markdown",
   "id": "5ebf5330-9807-461f-a9a7-5298d7743a7c",
   "metadata": {},
   "source": [
    "# Lab 4 (part 2)"
   ]
  },
  {
   "cell_type": "markdown",
   "id": "9842c347-ceaf-4aee-8a4b-fa60a51f9cc5",
   "metadata": {},
   "source": [
    "## Imports"
   ]
  },
  {
   "cell_type": "code",
   "execution_count": 1,
   "id": "7c6f9966-108e-49e9-a0b4-e5dfd0a59fad",
   "metadata": {},
   "outputs": [
    {
     "name": "stderr",
     "output_type": "stream",
     "text": [
      "/home/user/labs/lab4_2/.venv/lib/python3.11/site-packages/tqdm/auto.py:21: TqdmWarning: IProgress not found. Please update jupyter and ipywidgets. See https://ipywidgets.readthedocs.io/en/stable/user_install.html\n",
      "  from .autonotebook import tqdm as notebook_tqdm\n"
     ]
    }
   ],
   "source": [
    "import transformers\n",
    "import torch\n",
    "from transformers import pipeline, AutoTokenizer, AutoModelForQuestionAnswering, AutoModelForMaskedLM"
   ]
  },
  {
   "cell_type": "markdown",
   "id": "1bcddeec-9b05-470a-bd50-1ef7a0d48ae8",
   "metadata": {},
   "source": [
    "## TASK 2. Hugging Face Pipeline"
   ]
  },
  {
   "cell_type": "markdown",
   "id": "d3d3130d-83f8-49f6-b713-1571c5ba6aa3",
   "metadata": {},
   "source": [
    "### ukrainian-qa"
   ]
  },
  {
   "cell_type": "code",
   "execution_count": 2,
   "id": "160366c7-0f64-4823-95b0-d1de4fa649e6",
   "metadata": {},
   "outputs": [
    {
     "name": "stderr",
     "output_type": "stream",
     "text": [
      "Device set to use cuda:0\n"
     ]
    }
   ],
   "source": [
    "model_name = \"robinhad/ukrainian-qa\"\n",
    "\n",
    "tokenizer = AutoTokenizer.from_pretrained(model_name)\n",
    "model = AutoModelForQuestionAnswering.from_pretrained(model_name)\n",
    "\n",
    "qa_model = pipeline(\"question-answering\", model=model.to(\"cuda\"), tokenizer=tokenizer)"
   ]
  },
  {
   "cell_type": "code",
   "execution_count": 3,
   "id": "cd8a03e7-dce9-496d-b0a3-8bd2cc657993",
   "metadata": {},
   "outputs": [
    {
     "data": {
      "text/plain": [
       "{'score': 0.5048829317092896, 'start': 24, 'end': 34, 'answer': ' у Лондоні'}"
      ]
     },
     "execution_count": 3,
     "metadata": {},
     "output_type": "execute_result"
    }
   ],
   "source": [
    "question = \"Де ти живеш?\"\n",
    "context = \"Мене звати Сара і я живу у Лондоні\"\n",
    "qa_model(question = question, context = context)"
   ]
  },
  {
   "cell_type": "code",
   "execution_count": 4,
   "id": "e9abba2b-046d-4f8e-9880-f5b28e922578",
   "metadata": {},
   "outputs": [
    {
     "data": {
      "text/plain": [
       "{'score': 0.5052874684333801, 'start': 58, 'end': 70, 'answer': ' 12 калібру,'}"
      ]
     },
     "execution_count": 4,
     "metadata": {},
     "output_type": "execute_result"
    }
   ],
   "source": [
    "question = \"Якого калібру рушниця?\"\n",
    "context = \"Я нещодавно купив собі нову гладкоствольну помпову рушницю 12 калібру, сходимо в тир разом?\"\n",
    "qa_model(question = question, context = context)"
   ]
  },
  {
   "cell_type": "code",
   "execution_count": 5,
   "id": "8a43cfcc-5fb0-4f28-b6be-7fe601bb58d2",
   "metadata": {},
   "outputs": [
    {
     "data": {
      "text/plain": [
       "{'score': 0.50660240650177, 'start': 85, 'end': 98, 'answer': ' максимальний'}"
      ]
     },
     "execution_count": 5,
     "metadata": {},
     "output_type": "execute_result"
    }
   ],
   "source": [
    "question = \"Який бал отримав?\"\n",
    "context = \"Я так довго та старанно робив лабораторні роботи з ІАДу, що викладачка поставила мені максимальний бал, незважаючи на запізнення!\"\n",
    "qa_model(question = question, context = context)"
   ]
  },
  {
   "cell_type": "markdown",
   "id": "5df3d4b0-a7bb-464e-90b6-8811ff3aba35",
   "metadata": {},
   "source": [
    "### benjamin/roberta-base-wechsel-ukrainian"
   ]
  },
  {
   "cell_type": "code",
   "execution_count": 6,
   "id": "78c09101-4f1f-429d-96b8-608492c73ae0",
   "metadata": {},
   "outputs": [],
   "source": [
    "def fill_the_mask(mask_str):\n",
    "    model_name = \"benjamin/roberta-base-wechsel-ukrainian\"\n",
    "    tokenizer = AutoTokenizer.from_pretrained(model_name)\n",
    "    model = AutoModelForMaskedLM.from_pretrained(model_name)\n",
    "    fill_model = pipeline(\"fill-mask\", model=model.to(\"cuda\"), tokenizer=tokenizer)\n",
    "    result = fill_model(mask_str)\n",
    "    return mask_str.replace('<mask>', result[0]['token_str'].strip())"
   ]
  },
  {
   "cell_type": "code",
   "execution_count": 7,
   "id": "74e09cd6-6f8e-4d57-8928-285e7b0e37b0",
   "metadata": {},
   "outputs": [
    {
     "name": "stderr",
     "output_type": "stream",
     "text": [
      "Device set to use cuda:0\n"
     ]
    },
    {
     "name": "stdout",
     "output_type": "stream",
     "text": [
      "Це дуже гарна книга!\n"
     ]
    }
   ],
   "source": [
    "prediciton = fill_the_mask('Це дуже <mask> книга!')\n",
    "print(prediciton)"
   ]
  },
  {
   "cell_type": "code",
   "execution_count": 8,
   "id": "27d3e454-5059-4485-beae-085479cc60dc",
   "metadata": {},
   "outputs": [
    {
     "name": "stderr",
     "output_type": "stream",
     "text": [
      "Device set to use cuda:0\n"
     ]
    },
    {
     "name": "stdout",
     "output_type": "stream",
     "text": [
      "Більш за все мені подобається стріляти зі зброї великого калібру\n"
     ]
    }
   ],
   "source": [
    "prediciton = fill_the_mask('Більш за все мені подобається стріляти зі зброї <mask> калібру')\n",
    "print(prediciton)"
   ]
  },
  {
   "cell_type": "code",
   "execution_count": 9,
   "id": "ac214ea3-c39b-4429-af57-a1f764890413",
   "metadata": {},
   "outputs": [
    {
     "name": "stderr",
     "output_type": "stream",
     "text": [
      "Device set to use cuda:0\n"
     ]
    },
    {
     "name": "stdout",
     "output_type": "stream",
     "text": [
      "Я вчуся у Київському Політехнічному Інституті\n"
     ]
    }
   ],
   "source": [
    "prediciton = fill_the_mask('Я вчуся у Київському Політехнічному <mask>')\n",
    "print(prediciton)"
   ]
  },
  {
   "cell_type": "code",
   "execution_count": 10,
   "id": "52afd23a-5e71-45b8-bc40-d449bd104c83",
   "metadata": {},
   "outputs": [
    {
     "name": "stderr",
     "output_type": "stream",
     "text": [
      "Device set to use cuda:0\n"
     ]
    },
    {
     "name": "stdout",
     "output_type": "stream",
     "text": [
      "За цю лабораторну роботу, я маю отрмати 10 балів\n"
     ]
    }
   ],
   "source": [
    "prediciton = fill_the_mask('За цю лабораторну роботу, я маю отрмати <mask> балів')\n",
    "print(prediciton)"
   ]
  },
  {
   "cell_type": "code",
   "execution_count": 11,
   "id": "36c95dee-08f0-408d-b6eb-3e7db01bf0fb",
   "metadata": {},
   "outputs": [
    {
     "name": "stderr",
     "output_type": "stream",
     "text": [
      "Device set to use cuda:0\n"
     ]
    },
    {
     "name": "stdout",
     "output_type": "stream",
     "text": [
      "Учора на вулиці я побачив дуже милого кота, він був зеленого кольору\n"
     ]
    }
   ],
   "source": [
    "prediciton = fill_the_mask('Учора на вулиці я побачив дуже милого кота, він був <mask> кольору')\n",
    "print(prediciton)"
   ]
  },
  {
   "cell_type": "markdown",
   "id": "27cba96c-0346-4fb6-8c27-946583293dfd",
   "metadata": {},
   "source": [
    "> LMAO"
   ]
  },
  {
   "cell_type": "code",
   "execution_count": null,
   "id": "8d727176-6aea-4294-ae37-98aaa9ac833d",
   "metadata": {},
   "outputs": [],
   "source": []
  }
 ],
 "metadata": {
  "kernelspec": {
   "display_name": "Python 3 (ipykernel)",
   "language": "python",
   "name": "python3"
  },
  "language_info": {
   "codemirror_mode": {
    "name": "ipython",
    "version": 3
   },
   "file_extension": ".py",
   "mimetype": "text/x-python",
   "name": "python",
   "nbconvert_exporter": "python",
   "pygments_lexer": "ipython3",
   "version": "3.11.2"
  }
 },
 "nbformat": 4,
 "nbformat_minor": 5
}
